{
  "nbformat": 4,
  "nbformat_minor": 0,
  "metadata": {
    "colab": {
      "name": "week4_homework.ipynb",
      "provenance": [],
      "collapsed_sections": [],
      "include_colab_link": true
    },
    "kernelspec": {
      "name": "python3",
      "display_name": "Python 3"
    },
    "language_info": {
      "name": "python"
    }
  },
  "cells": [
    {
      "cell_type": "markdown",
      "metadata": {
        "id": "view-in-github",
        "colab_type": "text"
      },
      "source": [
        "<a href=\"https://colab.research.google.com/github/nguyentai090301/CS112.L21/blob/main/Assignment/week4_homework.ipynb\" target=\"_parent\"><img src=\"https://colab.research.google.com/assets/colab-badge.svg\" alt=\"Open In Colab\"/></a>"
      ]
    },
    {
      "cell_type": "markdown",
      "metadata": {
        "id": "hO_u9Xx7YPC7"
      },
      "source": [
        ""
      ]
    },
    {
      "cell_type": "markdown",
      "metadata": {
        "id": "ZiX3OcuM-Baa"
      },
      "source": [
        "#Bài 1: Sửa hàng rào\n",
        "1. Abstraction:giá trị lớn nhất có thể của (giá trị nhỏ nhất của list A) khi các giá trị của list A cộng với các giá trị của list B theo điều kiện mỗi giá trị list A chỉ được cộng thêm một giá trị list B và nếu bỏ qua thì không được quay lại cộng giá trị đó.\n",
        "2. Pattern Recognition: \n",
        "- Kiểm tra sau khi cộng tất cả các bj vào ai thì min(a) lúc này có lớn hơn hoặc bằng h không (***) \n",
        "- Tìm giá trị h hợp lý bằng tìm kiếm nhị phân trong đoạn [0, 200000001]\n",
        "3. Algorithm designed: thuật toán để giải quyết bài toán (trình bày bằng mã giả/ lưu đồ)\n",
        "- Bước 1: Khởi tạo các giá trị\n",
        "\t- left = 0\n",
        "\t- right = 200000001\n",
        "- Bước 2: Lặp cho tới khi left>right\n",
        "\t- mid = int((left+right)/2)\n",
        "\t- Nếu (***) thỏa mãn thì left = mid+1 để tìm xem có tồn tại một giá trị h nào tốt hơn không\n",
        "\t- Nếu không thì right = mid\n",
        "- Bước 3:\n",
        "\t- Gán h = left-1 là giá trị chiều cao lớn nhất vừa tìm được\n",
        "- Bước 4:\n",
        "\t- Xuất ra giá trị h và các cặp i, j thỏa yêu cầu đề bài\n",
        "4. Đánh giá độ phức tạp thuật toán:\n",
        "- O(log(2 * 10^8)) * O(X * log(X)) = O(X * log(X)) với X là max(m, n)\n"
      ]
    },
    {
      "cell_type": "code",
      "metadata": {
        "id": "OYogpemU9x8r"
      },
      "source": [
        "def Check_if_ok(a, b, h):\n",
        "    lower=[i for i in a if i<h]\n",
        "    count=0\n",
        "    len_lower=len(lower)\n",
        "    if len_lower==0:\n",
        "        return True\n",
        "    for i in b:\n",
        "        if i+lower[count]>=h:\n",
        "            count+=1\n",
        "        if count==len_lower:\n",
        "            return True\n",
        "    return False\n",
        "def answer(n, m ,a ,b , h):\n",
        "    lower=[i for i in range(n) if a[i] < h]\n",
        "    count = len(lower)\n",
        "    temp= ''\n",
        "    i=0\n",
        "    if count == 0:\n",
        "        return '',0\n",
        "    for j in range(m):\n",
        "        if a[lower[i]] + b[j] >= h:\n",
        "            temp += str(lower[i]+1) +' '+ str(j+1) + '\\n'\n",
        "            i += 1\n",
        "        if i == count:\n",
        "            return temp,count\n",
        "from sys import stdin\n",
        "n = int(input())\n",
        "a = [int(x) for x in stdin.readline().split()]\n",
        "m = int(input())\n",
        "b = [int(x) for x in stdin.readline().split()]\n",
        "left = 0\n",
        "right = 200000001\n",
        "h = 0\n",
        "k = 0\n",
        "while(left<right):\n",
        "    mid=(left+right)//2\n",
        "    if Check_if_ok(a, b, mid)==True:\n",
        "        left=mid+1\n",
        "    else:\n",
        "        right=mid\n",
        "h=left-1\n",
        "ans, k = answer(n, m, a, b, h)\n",
        "print(h, k)\n",
        "print(ans)"
      ],
      "execution_count": null,
      "outputs": []
    },
    {
      "cell_type": "markdown",
      "metadata": {
        "id": "9KJJX70S-hbb"
      },
      "source": [
        "# Bài 2: Phân số\n",
        "1. Abstraction:\n",
        "-  Số bước biến đổi để hai phân số bằng nhau thoả điều kiện mỗi phép biến đổi là nâng tử số và mẫu số của phân số một lên 1 đơn vị rồi giản ước\n",
        "2. Pattern Recognition: \n",
        "- Trường hợp xấu nhất là cần phải duyệt qua 10^5 với mỗi thao tác ta tìm ước chung lớn nhất cố độ phức tạp là log(min(a, b)) nên bài này chỉ việc vét cạn\n",
        "3. Algorithm designed: thuật toán để giải quyết bài toán (trình bày bằng mã giả/ lưu đồ)\n",
        " - <a href=\"https://ibb.co/vJ8kMhK\"><img src=\"https://i.ibb.co/LCf1sr2/Untitled-Diagram-3.png\" alt=\"Untitled-Diagram-3\" border=\"0\"></a>\n",
        "4. Đánh giá độ phức tạp thuật toán: O(max)\n"
      ]
    },
    {
      "cell_type": "code",
      "metadata": {
        "colab": {
          "base_uri": "https://localhost:8080/"
        },
        "id": "mDhCLbn7-wzH",
        "outputId": "06b3e982-d3df-4527-f33d-410f85abf515"
      },
      "source": [
        "from math import gcd\n",
        "\n",
        "a, b = int(input()), int(input())\n",
        "c, d = int(input()), int(input())\n",
        "count = 0\n",
        "kiem_tra = False\n",
        "max = 2*10**5 +1\n",
        "for i in range(max):\n",
        "    if a == c and b == d:\n",
        "        kiem_tra = True\n",
        "        break\n",
        "\n",
        "    a += 1; b += 1\n",
        "    GCD = gcd(a, b)\n",
        "    a //= GCD; b //= GCD\n",
        "    count += 1\n",
        "\n",
        "print(count if kiem_tra else 0)"
      ],
      "execution_count": null,
      "outputs": [
        {
          "output_type": "stream",
          "text": [
            "5\n",
            "6\n",
            "7\n",
            "8\n",
            "2\n"
          ],
          "name": "stdout"
        }
      ]
    },
    {
      "cell_type": "code",
      "metadata": {
        "id": "GgdpaZdCJAX6"
      },
      "source": [
        ""
      ],
      "execution_count": null,
      "outputs": []
    }
  ]
}